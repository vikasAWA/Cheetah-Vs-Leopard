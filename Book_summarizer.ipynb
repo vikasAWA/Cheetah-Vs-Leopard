{
  "cells": [
    {
      "cell_type": "markdown",
      "metadata": {
        "id": "view-in-github",
        "colab_type": "text"
      },
      "source": [
        "<a href=\"https://colab.research.google.com/github/vikasAWA/Cheetah-Vs-Leopard/blob/main/Book_summarizer.ipynb\" target=\"_parent\"><img src=\"https://colab.research.google.com/assets/colab-badge.svg\" alt=\"Open In Colab\"/></a>"
      ]
    },
    {
      "cell_type": "markdown",
      "metadata": {
        "id": "EB5Bdo80l1Ru"
      },
      "source": [
        "# Plan:\n",
        "### Fetch the Book from Project Gutenberg\n",
        "Use your httpx and Beautiful Soup skills to scrape and download books from Project Gutenberg.\n",
        "```\n",
        "Example:\n",
        "Use the search functionality on the Gutenberg site to find books by name.\n",
        "Scrape the search results to get the URL of the desired book.\n",
        "Download the plain text of the book.\n",
        "```"
      ]
    },
    {
      "cell_type": "code",
      "metadata": {
        "id": "tj8ZnVfAl1R2"
      },
      "source": [
        "import httpx"
      ],
      "outputs": [],
      "execution_count": null
    },
    {
      "cell_type": "code",
      "metadata": {
        "id": "AuXMkRCml1R5"
      },
      "source": [
        "url = \"https://www.gutenberg.org/\""
      ],
      "outputs": [],
      "execution_count": null
    },
    {
      "cell_type": "code",
      "metadata": {
        "id": "67jFrg4rl1R7",
        "outputId": "e401bd7f-934c-450e-8cfe-f66710955fcc"
      },
      "source": [
        "response = httpx.get(url)\n",
        "response"
      ],
      "outputs": [
        {
          "data": {
            "text/plain": [
              "<Response [200 OK]>"
            ]
          },
          "metadata": {},
          "output_type": "execute_result",
          "execution_count": null
        }
      ],
      "execution_count": null
    },
    {
      "cell_type": "code",
      "metadata": {
        "id": "tW3rSnRMl1R-",
        "outputId": "18f12b38-1237-4e06-907b-e690a677ef73"
      },
      "source": [
        "response.text[:100]"
      ],
      "outputs": [
        {
          "data": {
            "text/plain": [
              "'<!DOCTYPE html>\\n<html class=\"client-nojs\" lang=\"en\" dir=\"ltr\">\\n<head>\\n <meta charset=\"UTF-8\"/>\\n\\n<tit'"
            ]
          },
          "metadata": {},
          "output_type": "execute_result",
          "execution_count": null
        }
      ],
      "execution_count": null
    },
    {
      "cell_type": "code",
      "metadata": {
        "id": "S41yNJLsl1R_"
      },
      "source": [
        "from bs4 import BeautifulSoup"
      ],
      "outputs": [],
      "execution_count": null
    },
    {
      "cell_type": "code",
      "metadata": {
        "id": "jHGW1rLwl1SA"
      },
      "source": [
        "soup = BeautifulSoup(response.text, 'html.parser')"
      ],
      "outputs": [],
      "execution_count": null
    },
    {
      "cell_type": "code",
      "metadata": {
        "id": "8SKKHjcyl1SB",
        "outputId": "4e85d564-337c-4d9d-b13d-825669602a39"
      },
      "source": [
        "soup.select('.searchbox')"
      ],
      "outputs": [
        {
          "data": {
            "text/plain": [
              "[<div class=\"searchbox\">\n",
              " <form accept-charset=\"utf-8\" action=\"/ebooks/search/\" class=\"searchbox\" enctype=\"multipart/form-data\" method=\"get\">\n",
              " <input class=\"searchInput\" id=\"menu-book-search\" maxlength=\"80\" name=\"query\" placeholder=\"  Quick search\" size=\"20\" tabindex=\"20\" title=\"Quick search\" type=\"text\" value=\"\"/>\n",
              " <input name=\"submit_search\" style=\"vertical-align:middle;\" type=\"submit\" value=\"Go!\"/>\n",
              " </form>\n",
              " </div>,\n",
              " <form accept-charset=\"utf-8\" action=\"/ebooks/search/\" class=\"searchbox\" enctype=\"multipart/form-data\" method=\"get\">\n",
              " <input class=\"searchInput\" id=\"menu-book-search\" maxlength=\"80\" name=\"query\" placeholder=\"  Quick search\" size=\"20\" tabindex=\"20\" title=\"Quick search\" type=\"text\" value=\"\"/>\n",
              " <input name=\"submit_search\" style=\"vertical-align:middle;\" type=\"submit\" value=\"Go!\"/>\n",
              " </form>]"
            ]
          },
          "metadata": {},
          "output_type": "execute_result",
          "execution_count": null
        }
      ],
      "execution_count": null
    },
    {
      "cell_type": "markdown",
      "metadata": {
        "id": "hSBUUYD2l1SC"
      },
      "source": [
        "**AI Prompt**\n",
        "\n",
        "How can I take advantage of my querrying in search a specific book?"
      ]
    },
    {
      "cell_type": "markdown",
      "metadata": {
        "id": "U8dBtJa7l1SD"
      },
      "source": [
        "**AI Response**\n",
        "\n",
        "I notice you've already set up httpx and BeautifulSoup - that's great! To search for a specific book on Project Gutenberg, we can use their search URL format.\n",
        "\n",
        "Let me help you understand how to do this step by step:\n",
        "\n",
        "1. First, would you like to tell me which specific book you're looking for? This will help me guide you with the most relevant approach.\n",
        "\n",
        "2. Project Gutenberg's search URL follows this basic pattern:\n",
        "   `https://www.gutenberg.org/ebooks/search/?query=YOUR_SEARCH_TERMS`\n",
        "\n",
        "Would you like to try constructing a search query for your book? I can help you build the right URL once you let me know which book you're interested in."
      ]
    },
    {
      "cell_type": "code",
      "metadata": {
        "id": "UaRidqLil1SD"
      },
      "source": [
        "def get_book(book_name):\n",
        "    search_url = f\"https://www.gutenberg.org/ebooks/search/?query={book_name}\"\n",
        "    return search_url"
      ],
      "outputs": [],
      "execution_count": null
    },
    {
      "cell_type": "code",
      "metadata": {
        "id": "h2I1kU1fl1SE",
        "outputId": "12944647-5679-4edd-c04b-c817beaa89a2"
      },
      "source": [
        "get_book('The Idiot')"
      ],
      "outputs": [
        {
          "data": {
            "text/plain": [
              "'https://www.gutenberg.org/ebooks/search/?query=The Idiot'"
            ]
          },
          "metadata": {},
          "output_type": "execute_result",
          "execution_count": null
        }
      ],
      "execution_count": null
    },
    {
      "cell_type": "code",
      "metadata": {
        "id": "tNNuVxsHl1SE"
      },
      "source": [
        "search_url = get_book('The Idiot')"
      ],
      "outputs": [],
      "execution_count": null
    },
    {
      "cell_type": "code",
      "metadata": {
        "id": "13JW4uJUl1SF",
        "outputId": "386005f0-500d-4ed5-9e1b-1000bf5c31db"
      },
      "source": [
        "httpx.get(search_url)"
      ],
      "outputs": [
        {
          "data": {
            "text/plain": [
              "<Response [200 OK]>"
            ]
          },
          "metadata": {},
          "output_type": "execute_result",
          "execution_count": null
        }
      ],
      "execution_count": null
    },
    {
      "cell_type": "code",
      "metadata": {
        "id": "t_j4kWCnl1SF",
        "outputId": "56548afc-c05d-40c5-ecbf-cd4127256780"
      },
      "source": [
        "soup = BeautifulSoup(httpx.get(search_url).text, 'html.parser')\n",
        "soup.get_text()"
      ],
      "outputs": [
        {
          "data": {
            "text/plain": [
              "'\\n\\n\\n\\n\\n\\n\\n\\n\\n\\n\\n\\n\\n\\n\\n\\n\\n\\n\\n\\n\\n\\n\\n\\n\\n\\n\\n\\n\\n\\n\\n\\nBooks: The Idiot (sorted by popularity) - Project Gutenberg\\n\\n\\n\\n\\n\\n\\n\\n\\n\\nBooks: The Idiot (sorted by popularity)\\n\\n\\n\\n\\n\\n\\n\\n\\n\\n\\n\\n\\nSort Alphabetically by Title\\n\\n\\n\\n\\n\\n\\n\\n\\n\\n\\n\\n\\nSort by Release Date\\n\\n\\n\\n\\n\\n\\nDisplaying results 1–21\\n\\n\\n\\n\\n\\n\\n\\n\\n\\n\\nThe Idiot\\nFyodor Dostoyevsky\\n4676 downloads\\n\\n\\n\\n\\n\\n\\n\\n\\n\\n\\nFolk-Tales of the Khasis\\nMrs. Rafy\\n874 downloads\\n\\n\\n\\n\\n\\n\\n\\n\\n\\n\\nThe Wit and Humor of America, Volume III. (of X.)\\n770 downloads\\n\\n\\n\\n\\n\\n\\n\\n\\n\\n\\nTales of Unrest\\nJoseph Conrad\\n747 downloads\\n\\n\\n\\n\\n\\n\\n\\n\\n\\n\\nSämtliche Werke 3-4: Der Idiot (German)\\nFyodor Dostoyevsky\\n740 downloads\\n\\n\\n\\n\\n\\n\\n\\n\\n\\n\\nThe Wit and Humor of America, Volume X (of X)\\n655 downloads\\n\\n\\n\\n\\n\\n\\n\\n\\n\\n\\nThe Golden Maiden, and other folk tales and fairy stories told in Armenia\\nA. K. Seklemian\\n487 downloads\\n\\n\\n\\n\\n\\n\\n\\n\\n\\n\\nBreton Legends\\nAnonymous\\n203 downloads\\n\\n\\n\\n\\n\\n\\n\\n\\n\\n\\nThe Idiot: His Place in Creation, and His Claims on Society\\nSir Frederick Bateman\\n154 downloads\\n\\n\\n\\n\\n\\n\\n\\n\\n\\n\\nGli Idioti = The Idiots (Italian)\\nJoseph Conrad\\n154 downloads\\n\\n\\n\\n\\n\\n\\n\\n\\n\\n\\nThe Wit and Humor of America, Volume VI. (of X.)\\n143 downloads\\n\\n\\n\\n\\n\\n\\n\\n\\n\\n\\nMen, Women and Guns\\nH. C. McNeile\\n126 downloads\\n\\n\\n\\n\\n\\n\\n\\n\\n\\n\\nHalf-Hours with the Idiot\\nJohn Kendrick Bangs\\n125 downloads\\n\\n\\n\\n\\n\\n\\n\\n\\n\\n\\nA Slav Soul, and Other Stories\\nA. I. Kuprin\\n114 downloads\\n\\n\\n\\n\\n\\n\\n\\n\\n\\n\\nThe Idiot\\nJohn Kendrick Bangs\\n98 downloads\\n\\n\\n\\n\\n\\n\\n\\n\\n\\n\\nThe Idiot at Home\\nJohn Kendrick Bangs\\n91 downloads\\n\\n\\n\\n\\n\\n\\n\\n\\n\\n\\nThe Inventions of the Idiot\\nJohn Kendrick Bangs\\n90 downloads\\n\\n\\n\\n\\n\\n\\n\\n\\n\\n\\nThe Ape, the Idiot & Other People\\nW. C. Morrow\\n85 downloads\\n\\n\\n\\n\\n\\n\\n\\n\\n\\n\\nThe Genial Idiot: His Views and Reviews\\nJohn Kendrick Bangs\\n83 downloads\\n\\n\\n\\n\\n\\n\\n\\n\\n\\n\\nVerfall und Triumph, Zweiter Teil: Versuche in Prosa (German)\\nJohannes Robert Becher\\n80 downloads\\n\\n\\n\\n\\n\\n\\n\\n\\n\\n\\nTales of Unrest\\nJoseph Conrad\\n76 downloads\\n\\n\\n\\n\\n\\n\\nDisplaying results 1–21\\n\\n\\n\\n\\n\\n\\n\\n\\n\\n\\n\\n\\nPrivacy policy\\n\\n\\nAbout Project Gutenberg\\n\\n\\nTerms of Use\\n\\n\\nContact Information\\n\\nGet Help\\n\\n\\n\\n\\n\\n\\n\\n\\n\\n\\n\\n\\n\\nMenu▾\\n\\n\\n\\nAbout\\n▾\\n\\n▾\\n\\n\\nAbout Project Gutenberg\\nCollection Development\\nContact Us\\nHistory & Philosophy\\nPermissions & License\\nPrivacy Policy\\nTerms of Use\\n\\n\\n\\nSearch and Browse\\n▾\\n\\n▾\\n\\n\\nBook Search\\nBookshelves\\nFrequently Downloaded\\nOffline Catalogs\\n\\n\\n\\nHelp\\n▾\\n\\n▾\\n\\n\\nAll help topics →\\nCopyright Procedures\\nErrata, Fixes and Bug Reports\\nFile Formats\\nFrequently Asked Questions\\nPolicies →\\nPublic Domain eBook Submission\\nSubmitting Your Own Work\\nTablets, Phones and eReaders\\nThe Attic →\\n\\n\\nDonate\\n\\n\\n\\n\\n\\n\\n\\n\\n\\n\\nDonation\\n\\n\\n\\n\\n\\n\\n\\n'"
            ]
          },
          "metadata": {},
          "output_type": "execute_result",
          "execution_count": null
        }
      ],
      "execution_count": null
    },
    {
      "cell_type": "markdown",
      "metadata": {
        "id": "iuaAUUcOl1SG"
      },
      "source": [
        "**AI Prompt**\n",
        "\n",
        "I am getting many books here. I just want to get the book by Dostoyevsky. How can I tackle this problem."
      ]
    },
    {
      "cell_type": "markdown",
      "metadata": {
        "id": "pYF4fjtil1SG"
      },
      "source": [
        "**AI Response**\n",
        "\n",
        "I see you want to specifically get Dostoyevsky's \"The Idiot\". Let's break this down into steps:\n",
        "\n",
        "1. From your search results, we can see that Dostoyevsky's version has 4665 downloads and appears first in the list. We'll need to filter for this specific version.\n",
        "\n",
        "Would you like to try filtering the search results to find just Dostoyevsky's book? We can use BeautifulSoup to look for elements that contain both \"The Idiot\" and \"Dostoyevsky\".\n",
        "\n",
        "Would you like me to guide you through writing this filter, or would you prefer me to provide the code directly?"
      ]
    },
    {
      "cell_type": "code",
      "metadata": {
        "id": "nZmZfFmfl1SG",
        "outputId": "ee04d0f1-9468-4134-d222-c08e67e42a3d"
      },
      "source": [
        "soup.select('.extra')[:4]"
      ],
      "outputs": [
        {
          "data": {
            "text/plain": [
              "[<span class=\"extra\">4676 downloads</span>,\n",
              " <span class=\"extra\">874 downloads</span>,\n",
              " <span class=\"extra\">770 downloads</span>,\n",
              " <span class=\"extra\">747 downloads</span>]"
            ]
          },
          "metadata": {},
          "output_type": "execute_result",
          "execution_count": null
        }
      ],
      "execution_count": null
    },
    {
      "cell_type": "code",
      "metadata": {
        "id": "IjAy4IQkl1SG",
        "outputId": "eef966c8-bb53-40b9-f5e8-75bc24a450dc"
      },
      "source": [
        "titles = [title.text for title in soup.select('.title')]\n",
        "print(titles[:5])"
      ],
      "outputs": [
        {
          "name": "stdout",
          "output_type": "stream",
          "text": [
            "['Sort Alphabetically by Title', 'Sort by Release Date', 'The Idiot', 'Folk-Tales of the Khasis', 'The Wit and Humor of America, Volume III. (of X.)']\n"
          ]
        }
      ],
      "execution_count": null
    },
    {
      "cell_type": "code",
      "metadata": {
        "id": "Q5lyOV1_l1SH",
        "outputId": "dee1d9fb-5142-4f55-c73a-61adaf6a6c55"
      },
      "source": [
        "authors = [author.text for author in soup.select('.subtitle')]\n",
        "print(authors[:5])"
      ],
      "outputs": [
        {
          "name": "stdout",
          "output_type": "stream",
          "text": [
            "['Fyodor Dostoyevsky', 'Mrs. Rafy', 'Joseph Conrad', 'Fyodor Dostoyevsky', 'A. K. Seklemian']\n"
          ]
        }
      ],
      "execution_count": null
    },
    {
      "cell_type": "markdown",
      "metadata": {
        "id": "JHNvKJQ8l1SH"
      },
      "source": [
        "**AI Prompt**\n",
        "\n",
        "Now I need to finde the link of book with book name and author"
      ]
    },
    {
      "cell_type": "markdown",
      "metadata": {
        "id": "_XUs44tLl1SH"
      },
      "source": [
        "**AI Response**\n",
        "\n",
        "I see you want to get the specific link for Dostoyevsky's \"The Idiot\". Looking at your previous code, we can see the titles and authors are properly extracted. Now we need to find the corresponding link.\n",
        "\n",
        "Let's first look at what links are available in the search results. Would you like to try using BeautifulSoup's select method to find the links? We can use something like:\n",
        "\n",
        "```python\n",
        "links = soup.select('a[href*=\"/ebooks/\"]')\n",
        "```\n",
        "\n",
        "Try this and let me know if you'd like help examining the results to find the specific book link. We can then match it with the title and author information you already have."
      ]
    },
    {
      "cell_type": "code",
      "metadata": {
        "id": "UcAeHrgnl1SI",
        "outputId": "abdb5053-1ce0-4274-e85d-8bb337d30027"
      },
      "source": [
        "links = soup.select('a[href*=\"/ebooks/\"]')\n",
        "links[2]"
      ],
      "outputs": [
        {
          "data": {
            "text/plain": [
              "<a accesskey=\"3\" class=\"link\" href=\"/ebooks/2638\">\n",
              "<span class=\"cell leftcell with-cover\">\n",
              "<img alt=\"\" class=\"cover-thumb\" src=\"/cache/epub/2638/pg2638.cover.small.jpg\"/>\n",
              "</span>\n",
              "<span class=\"cell content\">\n",
              "<span class=\"title\">The Idiot</span>\n",
              "<span class=\"subtitle\">Fyodor Dostoyevsky</span>\n",
              "<span class=\"extra\">4676 downloads</span>\n",
              "</span>\n",
              "<span class=\"hstrut\"></span>\n",
              "</a>"
            ]
          },
          "metadata": {},
          "output_type": "execute_result",
          "execution_count": null
        }
      ],
      "execution_count": null
    },
    {
      "cell_type": "markdown",
      "metadata": {
        "id": "py9vpRWol1SI"
      },
      "source": [
        "**AI Prompt**\n",
        "\n",
        "what's this line of code doing?"
      ]
    },
    {
      "cell_type": "markdown",
      "metadata": {
        "id": "yRYgv8RLl1SJ"
      },
      "source": [
        "**AI Response**\n",
        "\n",
        "Let me break down what `soup.select('a[href*=\"/ebooks/\"]')` does:\n",
        "\n",
        "1. `soup.select()` is a BeautifulSoup method that finds elements using CSS selectors\n",
        "2. `a` looks for all `<a>` tags (links)\n",
        "3. `[href*=\"/ebooks/\"]` finds links where the href attribute contains \"/ebooks/\"\n",
        "4. The `*=` means \"contains\" in CSS selector syntax\n",
        "\n",
        "So this code finds all links on the page that contain \"/ebooks/\" in their URL. From the output, we can see it found several book links, including Dostoyevsky's \"The Idiot\" which has the URL \"/ebooks/2638\".\n",
        "\n",
        "Would you like to try filtering these results to get just Dostoyevsky's book link?"
      ]
    },
    {
      "cell_type": "code",
      "metadata": {
        "id": "rg5UBmmcl1SJ",
        "outputId": "31c4690a-3438-441b-f024-d038e25ffadc"
      },
      "source": [
        "links[2].select('.title')[0].text"
      ],
      "outputs": [
        {
          "data": {
            "text/plain": [
              "'The Idiot'"
            ]
          },
          "metadata": {},
          "output_type": "execute_result",
          "execution_count": null
        }
      ],
      "execution_count": null
    },
    {
      "cell_type": "code",
      "metadata": {
        "id": "KAr_hySql1SJ",
        "outputId": "119b62a1-441b-459a-a16b-0fc35fb3c541"
      },
      "source": [
        "target = [\n",
        "    link for link in links\n",
        "    if link.select('.title') and link.select('.subtitle')\n",
        "    and link.select('.title')[0].text == 'The Idiot'\n",
        "    and link.select('.subtitle')[0].text == 'Fyodor Dostoyevsky'\n",
        "]\n",
        "target"
      ],
      "outputs": [
        {
          "data": {
            "text/plain": [
              "[<a accesskey=\"3\" class=\"link\" href=\"/ebooks/2638\">\n",
              " <span class=\"cell leftcell with-cover\">\n",
              " <img alt=\"\" class=\"cover-thumb\" src=\"/cache/epub/2638/pg2638.cover.small.jpg\"/>\n",
              " </span>\n",
              " <span class=\"cell content\">\n",
              " <span class=\"title\">The Idiot</span>\n",
              " <span class=\"subtitle\">Fyodor Dostoyevsky</span>\n",
              " <span class=\"extra\">4676 downloads</span>\n",
              " </span>\n",
              " <span class=\"hstrut\"></span>\n",
              " </a>]"
            ]
          },
          "metadata": {},
          "output_type": "execute_result",
          "execution_count": null
        }
      ],
      "execution_count": null
    },
    {
      "cell_type": "code",
      "metadata": {
        "id": "c2FSzjGrl1SK",
        "outputId": "abbce9d7-408e-4005-d45e-d348a832b6e2"
      },
      "source": [
        "target[0].get('href')"
      ],
      "outputs": [
        {
          "data": {
            "text/plain": [
              "'/ebooks/2638'"
            ]
          },
          "metadata": {},
          "output_type": "execute_result",
          "execution_count": null
        }
      ],
      "execution_count": null
    },
    {
      "cell_type": "markdown",
      "metadata": {
        "id": "bzCwqbDMl1SK"
      },
      "source": [
        "**AI Prompt**\n",
        "\n",
        "we have a problem we are using very strictness in typing the name of the book and author name what if the user do the spelling mistake and all. How should I tackle that problem?"
      ]
    },
    {
      "cell_type": "markdown",
      "metadata": {
        "id": "QHcpA08Kl1SK"
      },
      "source": [
        "**AI Response**\n",
        "\n",
        "Ah, that's a very good observation! Yes, our current search is too strict - it needs an exact match. We can make our search more flexible in several ways:\n",
        "\n",
        "1. Convert everything to lowercase before comparing\n",
        "2. Remove extra spaces\n",
        "3. Use partial matching instead of exact matching\n",
        "4. Use string similarity metrics for fuzzy matching\n",
        "\n",
        "Would you like to try implementing one of these approaches? We could start with the simplest one (converting to lowercase and removing extra spaces) and then make it more sophisticated if needed.\n",
        "\n",
        "Which approach would you like to explore first?"
      ]
    },
    {
      "cell_type": "markdown",
      "metadata": {
        "id": "O3N3TLyul1SL"
      },
      "source": [
        "**AI Prompt**\n",
        "\n",
        "firs let's wrap my code into a get book function than we will apply above approaches."
      ]
    },
    {
      "cell_type": "markdown",
      "metadata": {
        "id": "FgwPWb5Il1SL"
      },
      "source": [
        "**AI Response**\n",
        "\n",
        "Good thinking! Let's create a function that takes a book title and author name as parameters. Here's a skeleton to start with:\n",
        "\n",
        "```python\n",
        "def get_book(title, author):\n",
        "    # 1. Create search URL\n",
        "    search_url = f\"https://www.gutenberg.org/ebooks/search/?query={title}\"\n",
        "    \n",
        "    # 2. Get the page and create soup\n",
        "    response = httpx.get(search_url)\n",
        "    soup = BeautifulSoup(response.text, 'html.parser')\n",
        "    \n",
        "    # 3. Find all book links\n",
        "    links = soup.select('a[href*=\"/ebooks/\"]')\n",
        "    \n",
        "    # 4. Filter for matching book\n",
        "    target = [\n",
        "        link for link in links\n",
        "        if link.select('.title') and link.select('.subtitle')\n",
        "        and link.select('.title')[0].text == title\n",
        "        and link.select('.subtitle')[0].text == author\n",
        "    ]\n",
        "    \n",
        "    # 5. Return the book URL if found\n",
        "    return target[0].get('href') if target else None\n",
        "```\n",
        "\n",
        "Would you like to try this function and then we can improve it with the flexible matching approaches we discussed?"
      ]
    },
    {
      "cell_type": "code",
      "metadata": {
        "id": "IONjR9r8l1SL"
      },
      "source": [
        "def get_book(title, author):\n",
        "    # 1. Create search URL\n",
        "    search_url = f\"https://www.gutenberg.org/ebooks/search/?query={title}\"\n",
        "\n",
        "    # 2. Get the page and create soup\n",
        "    response = httpx.get(search_url)\n",
        "    soup = BeautifulSoup(response.text, 'html.parser')\n",
        "\n",
        "    # 3. Find all book links\n",
        "    links = soup.select('a[href*=\"/ebooks/\"]')\n",
        "\n",
        "    # 4. Filter for matching book\n",
        "    target = [\n",
        "        link for link in links\n",
        "        if link.select('.title') and link.select('.subtitle')\n",
        "        and link.select('.title')[0].text.lower() == title.lower()\n",
        "        and link.select('.subtitle')[0].text.lower() == author.lower()\n",
        "    ]\n",
        "\n",
        "    # 5. Return the book URL if found\n",
        "    return target[0].get('href') if target else None"
      ],
      "outputs": [],
      "execution_count": null
    },
    {
      "cell_type": "code",
      "metadata": {
        "id": "tTe2RJGhl1SM",
        "outputId": "03e1cf46-50ff-4342-f542-3d493967f051"
      },
      "source": [
        "get_book('Pride and Prejudice', 'Jane Austen')"
      ],
      "outputs": [
        {
          "data": {
            "text/plain": [
              "'/ebooks/1342'"
            ]
          },
          "metadata": {},
          "output_type": "execute_result",
          "execution_count": null
        }
      ],
      "execution_count": null
    },
    {
      "cell_type": "code",
      "metadata": {
        "id": "nMvJT0qil1SM",
        "outputId": "c8fffc6e-e6da-462c-f35a-c26a793f7896"
      },
      "source": [
        "get_book('pride and Prejudice', 'Jane austen')"
      ],
      "outputs": [
        {
          "data": {
            "text/plain": [
              "'/ebooks/1342'"
            ]
          },
          "metadata": {},
          "output_type": "execute_result",
          "execution_count": null
        }
      ],
      "execution_count": null
    },
    {
      "cell_type": "markdown",
      "metadata": {
        "id": "5c66qAVJl1SM"
      },
      "source": [
        "**AI Prompt**\n",
        "\n",
        "I have tackle the case senstivity problem. How can I make it more flexible?"
      ]
    },
    {
      "cell_type": "markdown",
      "metadata": {
        "id": "MjpxaEo6l1SN"
      },
      "source": [
        "**AI Response**\n",
        "\n",
        "Great start with handling case sensitivity! For more flexibility, we could add these improvements:\n",
        "\n",
        "1. Remove extra spaces and special characters\n",
        "2. Use partial matching (using `in` instead of `==`)\n",
        "3. Add fuzzy matching (to handle minor typos)\n",
        "\n",
        "Which of these would you like to try first? Here's what each one would help with:\n",
        "\n",
        "- Removing spaces/special chars: Handles issues like \"Pride & Prejudice\" vs \"Pride and Prejudice\"\n",
        "- Partial matching: Finds books even if title isn't exact (e.g., \"Pride\" would find \"Pride and Prejudice\")\n",
        "- Fuzzy matching: Handles typos like \"Pryde and Prejudice\"\n",
        "\n",
        "Which approach interests you most?"
      ]
    },
    {
      "cell_type": "markdown",
      "metadata": {
        "id": "wLvpxdvJl1SN"
      },
      "source": [
        "**AI Prompt**\n",
        "\n",
        "If I can I apply partial and fuzzy matching first apprach will be automatically handle?"
      ]
    },
    {
      "cell_type": "markdown",
      "metadata": {
        "id": "VZOL9Qpul1SN"
      },
      "source": [
        "**AI Response**\n",
        "\n",
        "Actually, you make a good point! If we implement fuzzy matching first, it will naturally handle many cases including:\n",
        "- Minor typos\n",
        "- Different ways of writing the same thing (like \"and\" vs \"&\")\n",
        "- Partial matches\n",
        "\n",
        "For fuzzy matching, we can use a Python library called `fuzzywuzzy` or its faster version `thefuzz`. Would you like to:\n",
        "\n",
        "1. See how fuzzy matching works with a simple example first?\n",
        "2. Or directly implement it in our `get_book` function?\n",
        "\n",
        "Which would you prefer?"
      ]
    },
    {
      "cell_type": "markdown",
      "metadata": {
        "id": "pnYRIK_fl1SV"
      },
      "source": [
        "**AI Prompt**\n",
        "\n",
        "yes show me the xample first"
      ]
    },
    {
      "cell_type": "markdown",
      "metadata": {
        "id": "6B8Li7tAl1SW"
      },
      "source": [
        "**AI Response**\n",
        "\n",
        "Let's install and try a simple example with `thefuzz`. First, we need to install it:\n",
        "\n",
        "```python\n",
        "!pip install thefuzz[speedup]\n",
        "```\n",
        "\n",
        "Then I'll show you a basic example of how fuzzy matching works with some book titles. Would you like to try that?"
      ]
    },
    {
      "cell_type": "code",
      "metadata": {
        "id": "6rzeiMipl1SW",
        "outputId": "ab516754-4287-4140-cf27-ca97c98076e1"
      },
      "source": [
        "!pip install thefuzz[speedup]"
      ],
      "outputs": [
        {
          "name": "stdout",
          "output_type": "stream",
          "text": [
            "Defaulting to user installation because normal site-packages is not writeable\r\n",
            "Requirement already satisfied: thefuzz[speedup] in ./.local/lib/python3.11/site-packages (0.22.1)\r\n",
            "Requirement already satisfied: rapidfuzz<4.0.0,>=3.0.0 in ./.local/lib/python3.11/site-packages (from thefuzz[speedup]) (3.11.0)\r\n",
            "\r\n",
            "\u001b[1m[\u001b[0m\u001b[34;49mnotice\u001b[0m\u001b[1;39;49m]\u001b[0m\u001b[39;49m A new release of pip is available: \u001b[0m\u001b[31;49m24.0\u001b[0m\u001b[39;49m -> \u001b[0m\u001b[32;49m24.3.1\u001b[0m\r\n",
            "\u001b[1m[\u001b[0m\u001b[34;49mnotice\u001b[0m\u001b[1;39;49m]\u001b[0m\u001b[39;49m To update, run: \u001b[0m\u001b[32;49mpip install --upgrade pip\u001b[0m\r\n"
          ]
        }
      ],
      "execution_count": null
    },
    {
      "cell_type": "markdown",
      "metadata": {
        "id": "N7yEBW9Dl1SW"
      },
      "source": [
        "**AI Prompt**\n",
        "\n",
        "ok show me xample now"
      ]
    },
    {
      "cell_type": "markdown",
      "metadata": {
        "id": "XP6h44IGl1SW"
      },
      "source": [
        "**AI Response**\n",
        "\n",
        "Here's a simple example to show how fuzzy matching works with book titles:\n",
        "\n",
        "```python\n",
        "from thefuzz import fuzz\n",
        "\n",
        "# Let's compare some similar strings\n",
        "title1 = \"Pride and Prejudice\"\n",
        "title2 = \"Pryde & prejudise\"\n",
        "title3 = \"Pride prejudice\"\n",
        "\n",
        "# Let's see how similar these strings are (returns a score from 0 to 100)\n",
        "print(f\"Comparing '{title1}' with '{title2}': {fuzz.ratio(title1.lower(), title2.lower())}\")\n",
        "print(f\"Comparing '{title1}' with '{title3}': {fuzz.ratio(title1.lower(), title3.lower())}\")\n",
        "```\n",
        "\n",
        "Try running this code and let me know what you observe in the similarity scores. Then we can try different types of fuzzy matching that thefuzz offers!"
      ]
    },
    {
      "cell_type": "code",
      "metadata": {
        "id": "iX079515l1SX",
        "outputId": "a89e3c22-c076-49d4-a693-2efaaea263a2"
      },
      "source": [
        "from thefuzz import fuzz\n",
        "\n",
        "# Let's compare some similar strings\n",
        "title1 = \"Pride and Prejudice\"\n",
        "title2 = \"Pryde & prejudise\"\n",
        "title3 = \"Pride prejudice\"\n",
        "\n",
        "# Let's see how similar these strings are (returns a score from 0 to 100)\n",
        "print(f\"Comparing '{title1}' with '{title2}': {fuzz.ratio(title1.lower(), title2.lower())}\")\n",
        "print(f\"Comparing '{title1}' with '{title3}': {fuzz.ratio(title1.lower(), title3.lower())}\")"
      ],
      "outputs": [
        {
          "name": "stdout",
          "output_type": "stream",
          "text": [
            "Comparing 'Pride and Prejudice' with 'Pryde & prejudise': 78\n",
            "Comparing 'Pride and Prejudice' with 'Pride prejudice': 88\n"
          ]
        }
      ],
      "execution_count": null
    },
    {
      "cell_type": "markdown",
      "metadata": {
        "id": "qn5v6DMfl1SX"
      },
      "source": [
        "**AI Prompt**\n",
        "\n",
        "Ok got it let's apply it to our function for book title and author"
      ]
    },
    {
      "cell_type": "markdown",
      "metadata": {
        "id": "97RjkAT7l1SX"
      },
      "source": [
        "**AI Response**\n",
        "\n",
        "I'll help you modify the `get_book` function to use fuzzy matching. We'll set a threshold (like 80) to determine if strings are similar enough. Here's how we can start:\n",
        "\n",
        "```python\n",
        "from thefuzz import fuzz\n",
        "\n",
        "def get_book(title, author, threshold=80):\n",
        "    # 1. Create search URL\n",
        "    search_url = f\"https://www.gutenberg.org/ebooks/search/?query={title}\"\n",
        "    \n",
        "    # 2. Get the page and create soup\n",
        "    response = httpx.get(search_url)\n",
        "    soup = BeautifulSoup(response.text, 'html.parser')\n",
        "    \n",
        "    # 3. Find all book links\n",
        "    links = soup.select('a[href*=\"/ebooks/\"]')\n",
        "    \n",
        "    # 4. Filter for matching book using fuzzy matching\n",
        "    target = [\n",
        "        link for link in links\n",
        "        if link.select('.title') and link.select('.subtitle')\n",
        "        and fuzz.ratio(link.select('.title')[0].text.lower(), title.lower()) >= threshold\n",
        "        and fuzz.ratio(link.select('.subtitle')[0].text.lower(), author.lower()) >= threshold\n",
        "    ]\n",
        "    \n",
        "    # 5. Return the book URL if found\n",
        "    return target[0].get('href') if target else None\n",
        "```\n",
        "\n",
        "Would you like to test this with some variations of a book title and author name to see how it handles different inputs?"
      ]
    },
    {
      "cell_type": "code",
      "metadata": {
        "id": "OgD7_X9pl1SY"
      },
      "source": [
        "from thefuzz import fuzz\n",
        "\n",
        "def get_book(title, author, threshold=20):\n",
        "    # 1. Create search URL\n",
        "    search_url = f\"https://www.gutenberg.org/ebooks/search/?query={title}\"\n",
        "\n",
        "    # 2. Get the page and create soup\n",
        "    response = httpx.get(search_url)\n",
        "    soup = BeautifulSoup(response.text, 'html.parser')\n",
        "\n",
        "    # 3. Find all book links\n",
        "    links = soup.select('a[href*=\"/ebooks/\"]')\n",
        "\n",
        "    # 4. Filter for matching book using fuzzy matching\n",
        "    target = [\n",
        "        link for link in links\n",
        "        if link.select('.title') and link.select('.subtitle')\n",
        "        and fuzz.ratio(link.select('.title')[0].text.lower(), title.lower()) >= threshold\n",
        "        and fuzz.ratio(link.select('.subtitle')[0].text.lower(), author.lower()) >= threshold\n",
        "    ]\n",
        "\n",
        "    # 5. Return the book URL if found\n",
        "    return target[0].get('href') if target else None"
      ],
      "outputs": [],
      "execution_count": null
    },
    {
      "cell_type": "code",
      "metadata": {
        "id": "2qofYwmpl1SY",
        "outputId": "7f8a319c-d6e9-45c9-827d-67c50eab12bb"
      },
      "source": [
        "# checking for good threshold\n",
        "get_book('Pride and Prejudice', 'jane austen', threshold=50)"
      ],
      "outputs": [
        {
          "data": {
            "text/plain": [
              "'/ebooks/1342'"
            ]
          },
          "metadata": {},
          "output_type": "execute_result",
          "execution_count": null
        }
      ],
      "execution_count": null
    },
    {
      "cell_type": "code",
      "metadata": {
        "id": "BOsvQdSIl1SZ",
        "outputId": "3ede7a06-96e5-4501-9b92-ab4f34e7c77c"
      },
      "source": [
        "get_book('pride & Prejudice', 'jane austin', threshold=50)"
      ],
      "outputs": [
        {
          "data": {
            "text/plain": [
              "'/ebooks/1342'"
            ]
          },
          "metadata": {},
          "output_type": "execute_result",
          "execution_count": null
        }
      ],
      "execution_count": null
    },
    {
      "cell_type": "code",
      "metadata": {
        "id": "qtxZ52dal1SZ",
        "outputId": "a9008f59-9af7-43d6-b732-a1b403ae5315"
      },
      "source": [
        "get_book('pride & Prejudice', 'jane austin', threshold=80)"
      ],
      "outputs": [
        {
          "data": {
            "text/plain": [
              "'/ebooks/1342'"
            ]
          },
          "metadata": {},
          "output_type": "execute_result",
          "execution_count": null
        }
      ],
      "execution_count": null
    },
    {
      "cell_type": "code",
      "metadata": {
        "id": "flgV1asPl1Sa",
        "outputId": "75f4e3d5-bc3a-493c-c46d-048db8d659cd"
      },
      "source": [
        "get_book('the idiot', 'fyodor', threshold=20)"
      ],
      "outputs": [
        {
          "data": {
            "text/plain": [
              "'/ebooks/2638'"
            ]
          },
          "metadata": {},
          "output_type": "execute_result",
          "execution_count": null
        }
      ],
      "execution_count": null
    },
    {
      "cell_type": "code",
      "metadata": {
        "id": "_wlofu0Ul1Sa"
      },
      "source": [
        "base_url = \"https://www.gutenberg.org/\""
      ],
      "outputs": [],
      "execution_count": null
    },
    {
      "cell_type": "code",
      "metadata": {
        "id": "TTQ2YlJ1l1Sb",
        "outputId": "4435f4f2-c3cb-4a75-8b09-6cf9eb759e68"
      },
      "source": [
        "base_url + get_book('the idiot', 'fyodor')"
      ],
      "outputs": [
        {
          "data": {
            "text/plain": [
              "'https://www.gutenberg.org//ebooks/2638'"
            ]
          },
          "metadata": {},
          "output_type": "execute_result",
          "execution_count": null
        }
      ],
      "execution_count": null
    },
    {
      "cell_type": "code",
      "metadata": {
        "id": "jw8lDftCl1Sb"
      },
      "source": [
        "def get_book(title, author, threshold=20):\n",
        "    base_url = \"https://www.gutenberg.org\"\n",
        "    search_url = f\"https://www.gutenberg.org/ebooks/search/?query={title}\"\n",
        "    response = httpx.get(search_url)\n",
        "    soup = BeautifulSoup(response.text, 'html.parser')\n",
        "    links = soup.select('a[href*=\"/ebooks/\"]')\n",
        "    target = [\n",
        "        link for link in links\n",
        "        if link.select('.title') and link.select('.subtitle')\n",
        "        and fuzz.ratio(link.select('.title')[0].text.lower(), title.lower()) >= threshold\n",
        "        and fuzz.ratio(link.select('.subtitle')[0].text.lower(), author.lower()) >= threshold\n",
        "    ]\n",
        "    return base_url + target[0].get('href') if target else None"
      ],
      "outputs": [],
      "execution_count": null
    },
    {
      "cell_type": "code",
      "metadata": {
        "id": "LlekM0fNl1Sc",
        "outputId": "b2dca5cf-4365-41a0-fd6e-abfcb6b72f41"
      },
      "source": [
        "print(get_book('idiot', 'fyodor'))"
      ],
      "outputs": [
        {
          "name": "stdout",
          "output_type": "stream",
          "text": [
            "https://www.gutenberg.org/ebooks/2638\n"
          ]
        }
      ],
      "execution_count": null
    },
    {
      "cell_type": "code",
      "metadata": {
        "id": "HX-Od9s0l1Sc"
      },
      "source": [
        "desired_url = get_book('the idiot', 'fyodor')\n",
        "desired_soup = BeautifulSoup(httpx.get(desired_url).text, 'html.parser')"
      ],
      "outputs": [],
      "execution_count": null
    },
    {
      "cell_type": "markdown",
      "metadata": {
        "id": "af6Q4SG_l1Sd"
      },
      "source": [
        "**AI Prompt**\n",
        "\n",
        "is there any better way to get content of the link?"
      ]
    },
    {
      "cell_type": "markdown",
      "metadata": {
        "id": "iJ7LKSb9l1Sd"
      },
      "source": [
        "**AI Response**\n",
        "\n",
        "Yes! We can get the plain text version directly from Project Gutenberg. The plain text URL usually follows a simpler pattern. Let me show you:\n",
        "\n",
        "1. First, let's try to find the plain text link. It usually follows this pattern:\n",
        "```python\n",
        "# Get the book ID (in this case it's 2638)\n",
        "book_id = desired_url.split('/')[-1]\n",
        "text_url = f\"https://www.gutenberg.org/files/{book_id}/{book_id}-0.txt\"\n",
        "\n",
        "# Let's try getting this\n",
        "response = httpx.get(text_url)\n",
        "print(f\"Status code: {response.status_code}\")\n",
        "```\n",
        "\n",
        "Would you like to try this approach? If this works, it will be much simpler than dealing with zip files!"
      ]
    },
    {
      "cell_type": "code",
      "metadata": {
        "id": "pN78q2GRl1Sd",
        "outputId": "2c1e6cd1-3b3e-427f-9323-e0ba8499edff"
      },
      "source": [
        "# Get the book ID (in this case it's 2638)\n",
        "book_id = desired_url.split('/')[-1]\n",
        "text_url = f\"https://www.gutenberg.org/files/{book_id}/{book_id}-0.txt\"\n",
        "\n",
        "# Let's try getting this\n",
        "response = httpx.get(text_url)\n",
        "print(f\"Status code: {response.status_code}\")"
      ],
      "outputs": [
        {
          "name": "stdout",
          "output_type": "stream",
          "text": [
            "Status code: 200\n"
          ]
        }
      ],
      "execution_count": null
    },
    {
      "cell_type": "code",
      "metadata": {
        "id": "QreTeWXhl1Sd",
        "outputId": "a9706b49-5b43-49f8-8d90-1a2e9fd32c7f"
      },
      "source": [
        "# Get the text content and look at the first 1000 characters\n",
        "content = response.text\n",
        "print(content[:1000])"
      ],
      "outputs": [
        {
          "name": "stdout",
          "output_type": "stream",
          "text": [
            "﻿The Project Gutenberg eBook of The Idiot, by Fyodor Dostoyevsky\r\n",
            "\r\n",
            "This eBook is for the use of anyone anywhere in the United States and\r\n",
            "most other parts of the world at no cost and with almost no restrictions\r\n",
            "whatsoever. You may copy it, give it away or re-use it under the terms\r\n",
            "of the Project Gutenberg License included with this eBook or online at\r\n",
            "www.gutenberg.org. If you are not located in the United States, you\r\n",
            "will have to check the laws of the country where you are located before\r\n",
            "using this eBook.\r\n",
            "\r\n",
            "Title: The Idiot\r\n",
            "\r\n",
            "Author: Fyodor Dostoyevsky\r\n",
            "\r\n",
            "Translator: Eva Martin\r\n",
            "\r\n",
            "Release Date: May, 2001 [eBook #2638]\r\n",
            "[Most recently updated: June 21, 2021]\r\n",
            "\r\n",
            "Language: English\r\n",
            "\r\n",
            "Character set encoding: UTF-8\r\n",
            "\r\n",
            "Produced by: Martin Adamson, David Widger, with corrections by Andrew Sly\r\n",
            "\r\n",
            "*** START OF THE PROJECT GUTENBERG EBOOK THE IDIOT ***\r\n",
            "\r\n",
            "\r\n",
            "\r\n",
            "\r\n",
            "The Idiot\r\n",
            "\r\n",
            "by Fyodor Dostoyevsky\r\n",
            "\r\n",
            "Translated by Eva Martin\r\n",
            "\r\n",
            "\r\n",
            "Contents\r\n",
            "\r\n",
            " PART I\r\n",
            " PART II\r\n",
            " PART III\r\n",
            " PART IV\r\n",
            "\r\n",
            "\r\n",
            "\r\n",
            "\r\n",
            "\n"
          ]
        }
      ],
      "execution_count": null
    },
    {
      "cell_type": "markdown",
      "metadata": {
        "id": "K9KFGsVFl1Se"
      },
      "source": [
        "**AI Prompt**\n",
        "\n",
        "yes update my function"
      ]
    },
    {
      "cell_type": "markdown",
      "metadata": {
        "id": "FBe_EZoEl1Se"
      },
      "source": [
        "**AI Response**\n",
        "\n",
        "Let's update the `get_book` function to include getting the text content. We'll modify it to either return just the URL or the full text content based on a parameter:\n",
        "\n",
        "```python\n",
        "def get_book(title, author, threshold=20, get_text=False):\n",
        "    base_url = \"https://www.gutenberg.org\"\n",
        "    search_url = f\"{base_url}/ebooks/search/?query={title}\"\n",
        "    \n",
        "    # Get search results\n",
        "    response = httpx.get(search_url)\n",
        "    soup = BeautifulSoup(response.text, 'html.parser')\n",
        "    links = soup.select('a[href*=\"/ebooks/\"]')\n",
        "    \n",
        "    # Find matching book\n",
        "    target = [\n",
        "        link for link in links\n",
        "        if link.select('.title') and link.select('.subtitle')\n",
        "        and fuzz.ratio(link.select('.title')[0].text.lower(), title.lower()) >= threshold\n",
        "        and fuzz.ratio(link.select('.subtitle')[0].text.lower(), author.lower()) >= threshold\n",
        "    ]\n",
        "    \n",
        "    if not target:\n",
        "        return None\n",
        "        \n",
        "    # Get book URL and ID\n",
        "    book_url = base_url + target[0].get('href')\n",
        "    book_id = book_url.split('/')[-1]\n",
        "    \n",
        "    if not get_text:\n",
        "        return book_url\n",
        "        \n",
        "    # Get text content if requested\n",
        "    text_url = f\"{base_url}/files/{book_id}/{book_id}-0.txt\"\n",
        "    content = httpx.get(text_url).text\n",
        "    return content\n",
        "```\n",
        "\n",
        "Would you like to test this updated version with different examples?"
      ]
    },
    {
      "cell_type": "code",
      "metadata": {
        "id": "GcHim2lVl1Se"
      },
      "source": [
        "def get_book(title, author, threshold=20, get_text=False):\n",
        "    base_url = \"https://www.gutenberg.org\"\n",
        "    search_url = f\"{base_url}/ebooks/search/?query={title}\"\n",
        "\n",
        "    # Get search results\n",
        "    response = httpx.get(search_url)\n",
        "    soup = BeautifulSoup(response.text, 'html.parser')\n",
        "    links = soup.select('a[href*=\"/ebooks/\"]')\n",
        "\n",
        "    # Find matching book\n",
        "    target = [\n",
        "        link for link in links\n",
        "        if link.select('.title') and link.select('.subtitle')\n",
        "        and fuzz.ratio(link.select('.title')[0].text.lower(), title.lower()) >= threshold\n",
        "        and fuzz.ratio(link.select('.subtitle')[0].text.lower(), author.lower()) >= threshold\n",
        "    ]\n",
        "\n",
        "    if not target:\n",
        "        return None\n",
        "\n",
        "    # Get book URL and ID\n",
        "    book_url = base_url + target[0].get('href')\n",
        "    book_id = book_url.split('/')[-1]\n",
        "\n",
        "    if not get_text:\n",
        "        return book_url\n",
        "\n",
        "    # Get text content if requested\n",
        "    text_url = f\"{base_url}/files/{book_id}/{book_id}-0.txt\"\n",
        "    content = httpx.get(text_url).text\n",
        "    return content"
      ],
      "outputs": [],
      "execution_count": null
    },
    {
      "cell_type": "code",
      "metadata": {
        "id": "q-XZy-Zal1Sf",
        "outputId": "098ec892-40e1-473e-eeef-22cc3414d319"
      },
      "source": [
        "get_book('the idiot', 'fyodor')"
      ],
      "outputs": [
        {
          "data": {
            "text/plain": [
              "'https://www.gutenberg.org/ebooks/2638'"
            ]
          },
          "metadata": {},
          "output_type": "execute_result",
          "execution_count": null
        }
      ],
      "execution_count": null
    },
    {
      "cell_type": "code",
      "metadata": {
        "id": "njN2YY3tl1Sf",
        "outputId": "e817d262-183e-4ac1-848c-49d395851e5d"
      },
      "source": [
        "print(get_book('the idiot', 'fyodor', get_text=True)[:1000])"
      ],
      "outputs": [
        {
          "name": "stdout",
          "output_type": "stream",
          "text": [
            "﻿The Project Gutenberg eBook of The Idiot, by Fyodor Dostoyevsky\r\n",
            "\r\n",
            "This eBook is for the use of anyone anywhere in the United States and\r\n",
            "most other parts of the world at no cost and with almost no restrictions\r\n",
            "whatsoever. You may copy it, give it away or re-use it under the terms\r\n",
            "of the Project Gutenberg License included with this eBook or online at\r\n",
            "www.gutenberg.org. If you are not located in the United States, you\r\n",
            "will have to check the laws of the country where you are located before\r\n",
            "using this eBook.\r\n",
            "\r\n",
            "Title: The Idiot\r\n",
            "\r\n",
            "Author: Fyodor Dostoyevsky\r\n",
            "\r\n",
            "Translator: Eva Martin\r\n",
            "\r\n",
            "Release Date: May, 2001 [eBook #2638]\r\n",
            "[Most recently updated: June 21, 2021]\r\n",
            "\r\n",
            "Language: English\r\n",
            "\r\n",
            "Character set encoding: UTF-8\r\n",
            "\r\n",
            "Produced by: Martin Adamson, David Widger, with corrections by Andrew Sly\r\n",
            "\r\n",
            "*** START OF THE PROJECT GUTENBERG EBOOK THE IDIOT ***\r\n",
            "\r\n",
            "\r\n",
            "\r\n",
            "\r\n",
            "The Idiot\r\n",
            "\r\n",
            "by Fyodor Dostoyevsky\r\n",
            "\r\n",
            "Translated by Eva Martin\r\n",
            "\r\n",
            "\r\n",
            "Contents\r\n",
            "\r\n",
            " PART I\r\n",
            " PART II\r\n",
            " PART III\r\n",
            " PART IV\r\n",
            "\r\n",
            "\r\n",
            "\r\n",
            "\r\n",
            "\n"
          ]
        }
      ],
      "execution_count": null
    },
    {
      "cell_type": "code",
      "metadata": {
        "id": "XQ3APYGcl1Sf"
      },
      "source": [
        "text = get_book('pride and prejudice', 'Jane', get_text=True)"
      ],
      "outputs": [],
      "execution_count": null
    },
    {
      "cell_type": "code",
      "metadata": {
        "id": "DlGaC9mal1Sf",
        "outputId": "b1f34430-bcdc-4965-dcc1-72cdd71bce5f"
      },
      "source": [
        "print(text[:2000])"
      ],
      "outputs": [
        {
          "name": "stdout",
          "output_type": "stream",
          "text": [
            "*** START OF THE PROJECT GUTENBERG EBOOK 1342 ***\r\n",
            "                            [Illustration:\r\n",
            "\r\n",
            "                             GEORGE ALLEN\r\n",
            "                               PUBLISHER\r\n",
            "\r\n",
            "                        156 CHARING CROSS ROAD\r\n",
            "                                LONDON\r\n",
            "\r\n",
            "                             RUSKIN HOUSE\r\n",
            "                                   ]\r\n",
            "\r\n",
            "                            [Illustration:\r\n",
            "\r\n",
            "               _Reading Jane’s Letters._      _Chap 34._\r\n",
            "                                   ]\r\n",
            "\r\n",
            "\r\n",
            "\r\n",
            "\r\n",
            "                                PRIDE.\r\n",
            "                                  and\r\n",
            "                               PREJUDICE\r\n",
            "\r\n",
            "                                  by\r\n",
            "                             Jane Austen,\r\n",
            "\r\n",
            "                           with a Preface by\r\n",
            "                           George Saintsbury\r\n",
            "                                  and\r\n",
            "                           Illustrations by\r\n",
            "                             Hugh Thomson\r\n",
            "\r\n",
            "                         [Illustration: 1894]\r\n",
            "\r\n",
            "                       Ruskin       156. Charing\r\n",
            "                       House.        Cross Road.\r\n",
            "\r\n",
            "                                London\r\n",
            "                             George Allen.\r\n",
            "\r\n",
            "\r\n",
            "\r\n",
            "\r\n",
            "             CHISWICK PRESS:--CHARLES WHITTINGHAM AND CO.\r\n",
            "                  TOOKS COURT, CHANCERY LANE, LONDON.\r\n",
            "\r\n",
            "\r\n",
            "\r\n",
            "\r\n",
            "                            [Illustration:\r\n",
            "\r\n",
            "                          _To J. Comyns Carr\r\n",
            "                      in acknowledgment of all I\r\n",
            "                       owe to his friendship and\r\n",
            "                    advice, these illustrations are\r\n",
            "                         gratefully inscribed_\r\n",
            "\r\n",
            "                            _Hugh Thomson_\r\n",
            "                                   ]\r\n",
            "\r\n",
            "\r\n",
            "\r\n",
            "\r\n",
            "PREFACE.\r\n",
            "\r\n",
            "[Illustration]\r\n",
            "\r\n",
            "\r\n",
            "_Walt Whitman has somewhere a fine and just distinction between “loving\r\n",
            "by allowance” and “loving with personal love.” This distinction applies\r\n",
            "to books as well as to men and women; and in the case of the not very\r\n",
            "numerous authors who are the objects of the personal affection, it\r\n"
          ]
        }
      ],
      "execution_count": null
    },
    {
      "cell_type": "markdown",
      "metadata": {
        "id": "BQjj6C-2l1Sg"
      },
      "source": [
        "**AI Prompt**\n",
        "\n",
        "I just wan to make a small change even if user does not type the author name it should be able to givr the book"
      ]
    },
    {
      "cell_type": "markdown",
      "metadata": {
        "id": "bUxA7p51l1Sg"
      },
      "source": [
        "**AI Response**\n",
        "\n",
        "Ah, good idea! We can modify the function to make the author parameter optional. Here's how we can update it:\n",
        "\n",
        "```python\n",
        "def get_book(title, author=None, threshold=20, get_text=False):\n",
        "    base_url = \"https://www.gutenberg.org\"\n",
        "    search_url = f\"{base_url}/ebooks/search/?query={title}\"\n",
        "    \n",
        "    # Get search results\n",
        "    response = httpx.get(search_url)\n",
        "    soup = BeautifulSoup(response.text, 'html.parser')\n",
        "    links = soup.select('a[href*=\"/ebooks/\"]')\n",
        "    \n",
        "    # Find matching book\n",
        "    target = [\n",
        "        link for link in links\n",
        "        if link.select('.title')\n",
        "        and fuzz.ratio(link.select('.title')[0].text.lower(), title.lower()) >= threshold\n",
        "        and (author is None or\n",
        "             (link.select('.subtitle')\n",
        "              and fuzz.ratio(link.select('.subtitle')[0].text.lower(), author.lower()) >= threshold))\n",
        "    ]\n",
        "    \n",
        "    if not target:\n",
        "        return None\n",
        "        \n",
        "    # Get book URL and ID\n",
        "    book_url = base_url + target[0].get('href')\n",
        "    book_id = book_url.split('/')[-1]\n",
        "    \n",
        "    if not get_text:\n",
        "        return book_url\n",
        "        \n",
        "    # Get text content if requested\n",
        "    text_url = f\"{base_url}/files/{book_id}/{book_id}-0.txt\"\n",
        "    content = httpx.get(text_url).text\n",
        "    return content\n",
        "```\n",
        "\n",
        "Would you like to test it with just a book title and no author?"
      ]
    },
    {
      "cell_type": "code",
      "metadata": {
        "id": "MP0vuimLl1Sg"
      },
      "source": [
        "def get_book(title, author=None, threshold=20, get_text=False):\n",
        "    base_url = \"https://www.gutenberg.org\"\n",
        "    search_url = f\"{base_url}/ebooks/search/?query={title}\"\n",
        "\n",
        "    # Get search results\n",
        "    response = httpx.get(search_url)\n",
        "    soup = BeautifulSoup(response.text, 'html.parser')\n",
        "    links = soup.select('a[href*=\"/ebooks/\"]')\n",
        "\n",
        "    # Find matching book\n",
        "    target = [\n",
        "        link for link in links\n",
        "        if link.select('.title')\n",
        "        and fuzz.ratio(link.select('.title')[0].text.lower(), title.lower()) >= threshold\n",
        "        and (author is None or\n",
        "             (link.select('.subtitle')\n",
        "              and fuzz.ratio(link.select('.subtitle')[0].text.lower(), author.lower()) >= threshold))\n",
        "    ]\n",
        "\n",
        "    if not target:\n",
        "        return None\n",
        "\n",
        "    # Get book URL and ID\n",
        "    book_url = base_url + target[0].get('href')\n",
        "    book_id = book_url.split('/')[-1]\n",
        "\n",
        "    if not get_text:\n",
        "        return book_url\n",
        "\n",
        "    # Get text content if requested\n",
        "    text_url = f\"{base_url}/files/{book_id}/{book_id}-0.txt\"\n",
        "    content = httpx.get(text_url).text\n",
        "    return content"
      ],
      "outputs": [],
      "execution_count": null
    },
    {
      "cell_type": "code",
      "metadata": {
        "id": "n9zroS7Cl1Sh",
        "outputId": "9a0e401f-2a8b-4993-d105-02a198cedff7"
      },
      "source": [
        "text = get_book(\"The Devil's Dooryard\", get_text=True)\n",
        "print(text[:1000])"
      ],
      "outputs": [
        {
          "name": "stdout",
          "output_type": "stream",
          "text": [
            "*** START OF THE PROJECT GUTENBERG EBOOK 65759 ***\r\n",
            "\r\n",
            "The Project Gutenberg eBook of The Devil’s Dooryard, by W. C. Tuttle\r\n",
            "\r\n",
            "\r\n",
            "\r\n",
            "\r\n",
            "THE DEVIL’S DOORYARD\r\n",
            "\r\n",
            "A Complete Novelette\r\n",
            "\r\n",
            "by W. C. Tuttle\r\n",
            "\r\n",
            "Author of “Figures of Speech,” “No Wonder,” etc.\r\n",
            "\r\n",
            "\r\n",
            "“I has to disagree with yuh, cowboy. There is some romance left. A\r\n",
            "little barb-wire and a few sheep don’t cut the romance out of the\r\n",
            "cow-land. She’s there, Sleepy.”\r\n",
            "\r\n",
            "“Where?” I asks politely. “Me and you ain’t found none of it, Hashknife.\r\n",
            "Since we shook loose from Willer Crick we ain’t done nothin’ more\r\n",
            "romantic than gettin’ bucked off or lettin’ a gun go off accidental.\r\n",
            "There ain’t a man left in the cow-country that would get ambition if\r\n",
            "somebody called him a liar, and the villains has gone plumb out of the\r\n",
            "female-stealin’ business.”\r\n",
            "\r\n",
            "“Well, get off your bronc, Sleepy. Folks’ll think you’re a statoo on a\r\n",
            "horse. I’m too hungry to argue. Git off and look for romance, cowboy.”\r\n",
            "\r\n",
            "“In this town? Shucks. False fronts, licensed ga\n"
          ]
        }
      ],
      "execution_count": null
    },
    {
      "cell_type": "code",
      "metadata": {
        "id": "ywkwXHl0l1Sh",
        "outputId": "78a9d504-2276-41e6-ab0f-aa712108aea3"
      },
      "source": [
        "print(text[1000: 2000])"
      ],
      "outputs": [
        {
          "name": "stdout",
          "output_type": "stream",
          "text": [
            "mblin’-house,\r\n",
            "livery-stable, general merchandise store and a barber-shop.\r\n",
            "Romance ----!”\r\n",
            "\r\n",
            "“We-e-e-ll, get off. Some ham and eggs looks plenty romantic to me.”\r\n",
            "\r\n",
            "I gets off my bronc, limbers up my legs and looks around. The sign on\r\n",
            "the store proclaims it to be the Sundown Mercantile Company.\r\n",
            "\r\n",
            "“Sundown City,” says Hashknife. “She’s a cow-town, pure and simple.”\r\n",
            "\r\n",
            "“Pure and simple ----!” says I.\r\n",
            "\r\n",
            "“Why argue?” he says, sarcastic-like. “All day long you finds fault.\r\n",
            "You’d kick if yuh was goin’ to get hung, Sleepy Stevens. Ain’t nothin’\r\n",
            "right in your eyes?”\r\n",
            "\r\n",
            "“Pure and simple ----”\r\n",
            "\r\n",
            "I reckon the argument had gone far enough, but that wasn’t no way to\r\n",
            "bust it up. A bullet splinters the top of the tie-rack, another one\r\n",
            "busts the glass in the store-window and another one scorches a lousy dog\r\n",
            "which was asleep in the shade of the saloon porch, and it went\r\n",
            "_ki-yi-ing_ off down the street. Three punchers comes gallivantin’ out\r\n",
            "of the saloon-door, sifting lead back inside, while\n"
          ]
        }
      ],
      "execution_count": null
    }
  ],
  "metadata": {
    "kernelspec": {
      "display_name": "python3",
      "language": "python",
      "name": "python3"
    },
    "colab": {
      "name": "Book_summarizer",
      "provenance": [],
      "toc_visible": true,
      "include_colab_link": true
    }
  },
  "nbformat": 4,
  "nbformat_minor": 0
}